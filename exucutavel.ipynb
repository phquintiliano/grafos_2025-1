{
 "cells": [
  {
   "cell_type": "markdown",
   "id": "01604ec5",
   "metadata": {},
   "source": [
    "Selecione o caminho do arquivo que você deseja rodar;"
   ]
  },
  {
   "cell_type": "markdown",
   "id": "19d6d368",
   "metadata": {},
   "source": [
    "#Olá, por gentileza. Selecione o nome do arquivo. "
   ]
  },
  {
   "cell_type": "code",
   "execution_count": 4,
   "id": "c3e119a2",
   "metadata": {},
   "outputs": [],
   "source": [
    "nome_arquivo = \"BHW4.dat\"  "
   ]
  },
  {
   "cell_type": "markdown",
   "id": "2f20c0bf",
   "metadata": {},
   "source": [
    "Rode esse código para ler o arquivo que foi escolhido acima. "
   ]
  },
  {
   "cell_type": "code",
   "execution_count": 5,
   "id": "9a3bdefb",
   "metadata": {},
   "outputs": [
    {
     "name": "stdout",
     "output_type": "stream",
     "text": [
      "Sucesso! Os arquivos foram lidos.\n"
     ]
    }
   ],
   "source": [
    "from main import read_file\n",
    "[  \n",
    "    optimal_value,\n",
    "    vehicles,\n",
    "    capacity,\n",
    "    depot_note,\n",
    "    nodes,\n",
    "    total_edges,\n",
    "    total_arcs,\n",
    "    required_n,\n",
    "    required_e,\n",
    "    required_a,\n",
    "    required_ns,\n",
    "    required_es,\n",
    "    edges,\n",
    "    required_as,\n",
    "    arcs,\n",
    "] = read_file(nome_arquivo)"
   ]
  },
  {
   "cell_type": "markdown",
   "id": "6361d57b",
   "metadata": {},
   "source": [
    "Agora por ultímo, rode esse código para que sejam calculadas as estatístiscas a respeito do grafo. "
   ]
  },
  {
   "cell_type": "code",
   "execution_count": 6,
   "id": "32110ec2",
   "metadata": {},
   "outputs": [
    {
     "name": "stdout",
     "output_type": "stream",
     "text": [
      "Quantidade de vertices: 11\n",
      "Quantidade de arestas:  0\n",
      "Quantidade de arcos:  44\n",
      "Quantidade de vertices requeridos:  6\n",
      "Quantidade de arestas requeridas:  0\n",
      "Quantidade de arcos requeridas:  44\n",
      "Densidade do grafo:  0.4\n",
      "Componentes conectados:  1\n",
      "Grau minimo dos vertices:  6\n",
      "Grau maximo dos vertices:  10\n",
      "Intermediacao:  [30, 7, 3, 3, 1, 0, 7, 17, 1, 0, 1]\n",
      "Caminho medio:  3.65\n",
      "Diametro:  10\n"
     ]
    }
   ],
   "source": [
    "from main import metrics\n",
    "metrics(\n",
    "    nodes,\n",
    "    total_edges,\n",
    "    total_arcs,\n",
    "    required_n,\n",
    "    required_e,\n",
    "    required_a,\n",
    "    required_es,\n",
    "    edges,\n",
    "    required_as,\n",
    "    arcs,\n",
    ")"
   ]
  }
 ],
 "metadata": {
  "kernelspec": {
   "display_name": "Python 3",
   "language": "python",
   "name": "python3"
  },
  "language_info": {
   "codemirror_mode": {
    "name": "ipython",
    "version": 3
   },
   "file_extension": ".py",
   "mimetype": "text/x-python",
   "name": "python",
   "nbconvert_exporter": "python",
   "pygments_lexer": "ipython3",
   "version": "3.11.5"
  }
 },
 "nbformat": 4,
 "nbformat_minor": 5
}
